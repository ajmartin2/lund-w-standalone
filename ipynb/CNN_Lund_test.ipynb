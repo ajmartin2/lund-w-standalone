{
 "cells": [
  {
   "cell_type": "code",
   "execution_count": 1,
   "metadata": {},
   "outputs": [
    {
     "name": "stderr",
     "output_type": "stream",
     "text": [
      "Using TensorFlow backend.\n",
      "/afs/cern.ch/work/m/mkagan/public/miniconda3/envs/testenv/lib/python2.7/site-packages/sklearn/cross_validation.py:44: DeprecationWarning: This module was deprecated in version 0.18 in favor of the model_selection module into which all the refactored classes and functions are moved. Also note that the interface of the new CV iterators are different from that of this module. This module will be removed in 0.20.\n",
      "  \"This module will be removed in 0.20.\", DeprecationWarning)\n"
     ]
    }
   ],
   "source": [
    "from keras.datasets import mnist\n",
    "from keras.utils import np_utils\n",
    "from keras.models import Sequential\n",
    "from keras.layers import Conv1D, MaxPooling1D\n",
    "from keras.layers import Dense, Dropout, Activation, Flatten\n",
    "from keras.optimizers import Adam\n",
    "from sklearn.cross_validation import train_test_split\n",
    "import numpy as np"
   ]
  },
  {
   "cell_type": "code",
   "execution_count": 2,
   "metadata": {
    "collapsed": true
   },
   "outputs": [],
   "source": [
    "import numpy as np\n",
    "import h5py\n",
    "import matplotlib.pyplot as pl\n",
    "import matplotlib.colors as colors\n",
    "import matplotlib.cm as cmap\n",
    "from sklearn.metrics import roc_curve, roc_auc_score"
   ]
  },
  {
   "cell_type": "markdown",
   "metadata": {},
   "source": [
    "# Preprocess samples"
   ]
  },
  {
   "cell_type": "code",
   "execution_count": 3,
   "metadata": {
    "collapsed": true
   },
   "outputs": [],
   "source": [
    "files=['mc16_13TeV:mc16_13TeV.361023.Pythia8EvtGen_A14NNPDF23LO_jetjet_JZ3W.deriv.DAOD_JETM6.e3668_s3126_r9364_r9315_p3600.h5','mc16_13TeV:mc16_13TeV.361024.Pythia8EvtGen_A14NNPDF23LO_jetjet_JZ4W.deriv.DAOD_JETM6.e3668_s3126_r9364_r9315_p3600.h5','mc16_13TeV:mc16_13TeV.361026.Pythia8EvtGen_A14NNPDF23LO_jetjet_JZ6W.deriv.DAOD_JETM6.e3569_s3126_r9364_r9315_p3600.h5','mc16_13TeV:mc16_13TeV.361027.Pythia8EvtGen_A14NNPDF23LO_jetjet_JZ7W.deriv.DAOD_JETM6.e3668_s3126_r9364_r9315_p3600.h5','mc16_13TeV:mc16_13TeV.361028.Pythia8EvtGen_A14NNPDF23LO_jetjet_JZ8W.deriv.DAOD_JETM6.e3569_s3126_r9364_r9315_p3600.h5','mc16_13TeV:mc16_13TeV.361029.Pythia8EvtGen_A14NNPDF23LO_jetjet_JZ9W.deriv.DAOD_JETM6.e3569_s3126_r9364_r9315_p3600.h5']\n",
    "f_bkg = h5py.File('mcdata/'+files[0])\n",
    "f_sig = h5py.File('mcdata/signal_Vs.h5')\n",
    "f_bkg['branches'][:]\n",
    "pt_min=200.\n",
    "pt_max=500."
   ]
  },
  {
   "cell_type": "code",
   "execution_count": 4,
   "metadata": {},
   "outputs": [
    {
     "name": "stdout",
     "output_type": "stream",
     "text": [
      "(1000000, 2, 20, 6)\n",
      "[[  9.65082169e-01   5.14076510e-03   2.47367203e+02   6.84367142e+01\n",
      "    2.10000000e+01   6.00043118e-01]\n",
      " [  6.11582160e-01   2.60056593e-02   2.47367203e+02   6.84367142e+01\n",
      "    2.10000000e+01   3.01984835e+00]\n",
      " [  2.84144580e-01   2.43875887e-02   2.47367203e+02   6.84367142e+01\n",
      "    2.10000000e+01   2.75831461e+00]\n",
      " [  2.53698438e-01   4.90890145e-01   2.47367203e+02   6.84367142e+01\n",
      "    2.10000000e+01   5.45973129e+01]\n",
      " [  1.96089849e-01   6.79854453e-02   2.47367203e+02   6.84367142e+01\n",
      "    2.10000000e+01   3.85062814e+00]\n",
      " [  1.52845576e-01   2.70790868e-02   2.47367203e+02   6.84367142e+01\n",
      "    2.10000000e+01   1.42964482e+00]\n",
      " [  1.03430949e-01   4.64595407e-02   2.47367203e+02   6.84367142e+01\n",
      "    2.10000000e+01   2.38644600e+00]\n",
      " [  6.09962679e-02   2.12396398e-01   2.47367203e+02   6.84367142e+01\n",
      "    2.10000000e+01   1.04038916e+01]\n",
      " [  5.22892624e-02   1.37933418e-01   2.47367203e+02   6.84367142e+01\n",
      "    2.10000000e+01   5.32146215e+00]\n",
      " [  4.75873314e-02   1.40563250e-01   2.47367203e+02   6.84367142e+01\n",
      "    2.10000000e+01   4.67526484e+00]\n",
      " [  1.00000000e+00   1.00000000e+00   2.47367203e+02   6.84367142e+01\n",
      "    2.10000000e+01   1.00000000e+00]\n",
      " [  1.00000000e+00   1.00000000e+00   2.47367203e+02   6.84367142e+01\n",
      "    2.10000000e+01   1.00000000e+00]\n",
      " [  1.00000000e+00   1.00000000e+00   2.47367203e+02   6.84367142e+01\n",
      "    2.10000000e+01   1.00000000e+00]\n",
      " [  1.00000000e+00   1.00000000e+00   2.47367203e+02   6.84367142e+01\n",
      "    2.10000000e+01   1.00000000e+00]\n",
      " [  1.00000000e+00   1.00000000e+00   2.47367203e+02   6.84367142e+01\n",
      "    2.10000000e+01   1.00000000e+00]\n",
      " [  1.00000000e+00   1.00000000e+00   2.47367203e+02   6.84367142e+01\n",
      "    2.10000000e+01   1.00000000e+00]\n",
      " [  1.00000000e+00   1.00000000e+00   2.47367203e+02   6.84367142e+01\n",
      "    2.10000000e+01   1.00000000e+00]\n",
      " [  1.00000000e+00   1.00000000e+00   2.47367203e+02   6.84367142e+01\n",
      "    2.10000000e+01   1.00000000e+00]\n",
      " [  1.00000000e+00   1.00000000e+00   2.47367203e+02   6.84367142e+01\n",
      "    2.10000000e+01   1.00000000e+00]\n",
      " [  1.00000000e+00   1.00000000e+00   2.47367203e+02   6.84367142e+01\n",
      "    2.10000000e+01   1.00000000e+00]]\n"
     ]
    }
   ],
   "source": [
    "arr_bkg = np.array(f_bkg['lundjets_InDetTrackParticles'])\n",
    "print arr_bkg.shape\n",
    "arr_bkg = arr_bkg.reshape(arr_bkg.shape[0]*arr_bkg.shape[1],20,6)\n",
    "arr_sig = np.array(f_sig['lundjets_InDetTrackParticles'])\n",
    "arr_sig = arr_sig.reshape(arr_sig.shape[0]*arr_sig.shape[1],20,6)\n",
    "print arr_bkg[300,:,:]"
   ]
  },
  {
   "cell_type": "code",
   "execution_count": 5,
   "metadata": {},
   "outputs": [
    {
     "data": {
      "image/png": "[encoded data removed]",
      "text/plain": [
       "<matplotlib.figure.Figure at 0x7fae4360ec90>"
      ]
     },
     "metadata": {},
     "output_type": "display_data"
    }
   ],
   "source": [
    "# Jet pt\n",
    "pt_sig=arr_sig[:,:,2].flatten()\n",
    "pl.hist(pt_sig)\n",
    "pl.yscale('log')\n",
    "pl.show()"
   ]
  },
  {
   "cell_type": "code",
   "execution_count": 6,
   "metadata": {},
   "outputs": [
    {
     "name": "stdout",
     "output_type": "stream",
     "text": [
      "array size before cut:\n",
      "signal:\n",
      "2000000\n",
      "background:\n",
      "2000000\n",
      "array size after cut:\n",
      "signal:\n",
      "(1012694, 20, 6)\n",
      "background:\n",
      "(1007527, 20, 6)\n"
     ]
    }
   ],
   "source": [
    "nEvent=arr_sig.shape[0]\n",
    "print \"array size before cut:\"\n",
    "print \"signal:\"\n",
    "print (len(arr_sig))\n",
    "print 'background:'\n",
    "print len(arr_bkg)\n",
    "\n",
    "# Cut out problematic radiation patterns (Delta_R of first radiation branch = 0)\n",
    "arr_sig = arr_sig[arr_sig[0:nEvent,0,0]!=1.]\n",
    "arr_bkg = arr_bkg[arr_bkg[0:nEvent,0,0]!=1.]\n",
    "print 'array size after cut:'\n",
    "print 'signal:'\n",
    "print arr_sig.shape\n",
    "print 'background:'\n",
    "print arr_bkg.shape\n",
    "arr_sig[arr_sig==1.]=1e-3\n",
    "arr_bkg[arr_bkg==1.]=1e-3"
   ]
  },
  {
   "cell_type": "code",
   "execution_count": 7,
   "metadata": {
    "collapsed": true
   },
   "outputs": [],
   "source": [
    "# cut on pt\n",
    "cut_sig=[]\n",
    "for i in range(arr_sig.shape[0]):\n",
    "    if ((arr_sig[i,0,2]>pt_min) and (arr_sig[i,0,2]<pt_max)):\n",
    "        cut_sig.append(True)\n",
    "    else:\n",
    "        cut_sig.append(False)\n",
    "\n",
    "cut_bkg=[]\n",
    "for i in range(arr_bkg.shape[0]):\n",
    "    if ((arr_bkg[i,0,2]>pt_min) and (arr_bkg[i,0,2]<pt_max)):\n",
    "        cut_bkg.append(True)\n",
    "    else:\n",
    "        cut_bkg.append(False)\n",
    "arr_sig = arr_sig[cut_sig]\n",
    "arr_bkg = arr_bkg[cut_bkg]"
   ]
  },
  {
   "cell_type": "code",
   "execution_count": 8,
   "metadata": {},
   "outputs": [
    {
     "name": "stdout",
     "output_type": "stream",
     "text": [
      "(984406, 20, 6)\n",
      "(1005499, 20, 6)\n"
     ]
    }
   ],
   "source": [
    "print arr_sig.shape\n",
    "print arr_bkg.shape"
   ]
  },
  {
   "cell_type": "code",
   "execution_count": 9,
   "metadata": {},
   "outputs": [
    {
     "name": "stdout",
     "output_type": "stream",
     "text": [
      "(984406, 2)\n",
      "(1005499, 2)\n"
     ]
    }
   ],
   "source": [
    "# x=log(1/Delta), y=log(Delta*pt2)\n",
    "lund_x_sig=np.log(1/arr_sig[:,:,0]).flatten()\n",
    "lund_y_sig=np.log(np.array(arr_sig[:,:,5]).flatten()*np.array(arr_sig[:,:,0]).flatten())\n",
    "lund_x_bkg=np.log(1/arr_bkg[:,:,0]).flatten()\n",
    "lund_y_bkg=np.log(np.array(arr_bkg[:,:,5]).flatten()*np.array(arr_bkg[:,:,0]).flatten())\n",
    "\n",
    "signal=np.zeros((arr_sig.shape[0],2,20),dtype=float)\n",
    "background=np.zeros((arr_bkg.shape[0],2,20),dtype=float)\n",
    "for i in range(signal.shape[0]):\n",
    "    for j in range(20):\n",
    "        signal[i,0,j]=lund_x_sig[j+i*20]\n",
    "        signal[i,1,j]=lund_y_sig[j+i*20]\n",
    "    \n",
    "for i in range(background.shape[0]):\n",
    "    for j in range(20):\n",
    "        background[i,0,j]=lund_x_bkg[j+i*20]\n",
    "        background[i,1,j]=lund_y_bkg[j+i*20]\n",
    "    \n",
    "y_sig=np.zeros(arr_sig.shape[0])\n",
    "y_bkg=np.ones(arr_bkg.shape[0])\n",
    "y_sig=np_utils.to_categorical(y_sig,2)\n",
    "y_bkg=np_utils.to_categorical(y_bkg,2)\n",
    "#target=np.concatenate([y_sig,y_bkg])\n",
    "#print target[:10]\n",
    "print y_sig.shape\n",
    "print y_bkg.shape"
   ]
  },
  {
   "cell_type": "code",
   "execution_count": null,
   "metadata": {},
   "outputs": [],
   "source": [
    "# Split training set and test set\n",
    "x_train_sig,x_test_sig,y_train_sig,y_test_sig = train_test_split(signal,y_sig,test_size=0.5, random_state = 4)\n",
    "x_train_bkg,x_test_bkg,y_train_bkg,y_test_bkg = train_test_split(background,y_bkg,test_size=0.05, random_state = 4)\n",
    "x_train=np.concatenate([x_train_sig,x_train_bkg])\n",
    "x_test=np.concatenate([x_test_sig,x_test_bkg])\n",
    "y_train=np.concatenate([y_train_sig,y_train_bkg])\n",
    "y_test=np.concatenate([y_test_sig,y_test_bkg])"
   ]
  },
  {
   "cell_type": "markdown",
   "metadata": {},
   "source": [
    "# Build CNN model and training"
   ]
  },
  {
   "cell_type": "code",
   "execution_count": null,
   "metadata": {},
   "outputs": [
    {
     "name": "stdout",
     "output_type": "stream",
     "text": [
      "(1447427, 2, 20)\n",
      "Epoch 1/6\n",
      "1447427/1447427 [==============================] - 140s - loss: 0.4741 - acc: 0.7808   \n",
      "Epoch 2/6\n",
      "1447427/1447427 [==============================] - 138s - loss: 0.4508 - acc: 0.7988   \n",
      "Epoch 3/6\n",
      "1447427/1447427 [==============================] - 144s - loss: 0.4465 - acc: 0.8014   \n",
      "Epoch 4/6\n",
      "1447427/1447427 [==============================] - 137s - loss: 0.4453 - acc: 0.8027   \n",
      "Epoch 5/6\n",
      "1447427/1447427 [==============================] - 142s - loss: 0.4439 - acc: 0.8030   \n",
      "Epoch 6/6\n",
      " 968700/1447427 [===================>..........] - ETA: 48s - loss: 0.4429 - acc: 0.8038"
     ]
    }
   ],
   "source": [
    "x_train=x_train.astype('float32')\n",
    "x_test=x_test.astype('float32')\n",
    "print(x_train.shape)\n",
    "model=Sequential()\n",
    "model.add(Conv1D(32,5,activation='relu',input_shape=(2,20), padding='same'))\n",
    "#filters: number of different weights, kernal size: dimension of weight vector (matrix)\n",
    "#print model.output_shape\n",
    "#model.add(Conv1D(filters=32,kernal_size=5, activation='relu',paddling='same'))\n",
    "model.add(MaxPooling1D(pool_size=2,padding='same'))\n",
    "model.add(Dropout(0.25))\n",
    "model.add(Conv1D(32,5,activation='relu',input_shape=(2,20),padding='same'))\n",
    "\n",
    "model.add(Flatten())\n",
    "model.add(Dense(128,activation='relu'))\n",
    "model.add(Dropout(0.5))\n",
    "model.add(Dense(2,activation='softmax'))\n",
    "\n",
    "model.compile(loss='categorical_crossentropy',optimizer='adam',metrics=['accuracy'])\n",
    "model.fit(x_train,y_train,batch_size=100,epochs=6,verbose=1)\n",
    "score=model.evaluate(x_test,y_test,verbose=0)\n",
    "print score"
   ]
  },
  {
   "cell_type": "markdown",
   "metadata": {
    "collapsed": true
   },
   "source": [
    "# Test model and plotting"
   ]
  },
  {
   "cell_type": "code",
   "execution_count": null,
   "metadata": {
    "collapsed": true
   },
   "outputs": [],
   "source": [
    "y_predict=model.predict(x_test,batch_size=32,verbose=0)\n",
    "#print y_predict[1]\n",
    "#print y_test.shape\n",
    "#print y_predict.shape\n",
    "fpr, tpr, thresholds = roc_curve(y_test[:,0], y_predict[:,0])\n",
    "roc_auc = roc_auc_score(y_test, y_predict) # cacluate area under curve\n",
    "roc=[roc_auc]\n",
    "fpr[fpr==0.]=1e-5\n",
    "np.save('fpr_W_lowpt_2var.npy',fpr)\n",
    "np.save('tpr_W_lowpt_2var.npy',tpr)\n",
    "np.save('roc_W_lowpt_2var.npy',roc)"
   ]
  },
  {
   "cell_type": "code",
   "execution_count": null,
   "metadata": {},
   "outputs": [],
   "source": [
    "pl.figure()\n",
    "lw = 2\n",
    "fpr[fpr==0.]=1e-5\n",
    "print fpr[0]\n",
    "pl.plot(tpr, 1./fpr, color='darkorange',lw=lw, label='ROC curve (area = %0.2f)' % roc_auc)\n",
    "pl.plot([0, 1], [0, 1], color='navy', lw=lw, linestyle='--')\n",
    "pl.xlim([0.3, 1.0])\n",
    "#pl.ylim([0.0, 1.05])\n",
    "pl.yscale('log')\n",
    "pl.ylim(1,1e4)\n",
    "pl.xlabel('Signal efficiency ($\\epsilon_{sig}$)')\n",
    "pl.ylabel('Background rejection ($1/\\epsilon_{bkg}$)')\n",
    "#pl.title('Receiver operating characteristic example')\n",
    "pl.legend(loc=\"lower right\")\n",
    "ptrange='pT = [{0}, {1}] GeV'.format(int(pt_min),int(pt_max))\n",
    "pl.text(0.75,4e3,ptrange)\n",
    "pl.show()"
   ]
  },
  {
   "cell_type": "code",
   "execution_count": null,
   "metadata": {
    "collapsed": true
   },
   "outputs": [],
   "source": []
  }
 ],
 "metadata": {
  "kernelspec": {
   "display_name": "Python 2",
   "language": "python",
   "name": "python2"
  },
  "language_info": {
   "codemirror_mode": {
    "name": "ipython",
    "version": 2
   },
   "file_extension": ".py",
   "mimetype": "text/x-python",
   "name": "python",
   "nbconvert_exporter": "python",
   "pygments_lexer": "ipython2",
   "version": "2.7.13"
  }
 },
 "nbformat": 4,
 "nbformat_minor": 2
}
